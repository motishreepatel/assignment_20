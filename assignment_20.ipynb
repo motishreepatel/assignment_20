{
 "cells": [
  {
   "cell_type": "code",
   "execution_count": 6,
   "metadata": {},
   "outputs": [],
   "source": [
    "#Q - 1. Set the variable test1 to the string 'This is a test of the emergency text system,' and save test1 to a file named test.txt.\n",
    "#Answer:\n",
    "test1 = 'This is a test of the emergency text system,'\n",
    "\n",
    "with open ('test.txt','w') as file:\n",
    "    file.write(test1)"
   ]
  },
  {
   "cell_type": "code",
   "execution_count": 5,
   "metadata": {},
   "outputs": [
    {
     "name": "stdout",
     "output_type": "stream",
     "text": [
      "Both have same content\n"
     ]
    }
   ],
   "source": [
    "#Q - 2. Read the contents of the file test.txt into the variable test2. Is there a difference between test 1 and test 2?\n",
    "#Answer:\n",
    "with open(\"test.txt\",\"r\") as file2:\n",
    "    test2 = file2.read()\n",
    "test1= 'This is a test of the emergency text system,'\n",
    "if(test1 == test2):\n",
    "    print(\"Both have same content\")\n",
    "else:\n",
    "    print(\"Both have different content\")"
   ]
  },
  {
   "cell_type": "code",
   "execution_count": 7,
   "metadata": {},
   "outputs": [
    {
     "name": "stdout",
     "output_type": "stream",
     "text": [
      "books.csv has been created.\n"
     ]
    }
   ],
   "source": [
    "#Q - 3. Create a CSV file called books.csv by using these lines:\n",
    "'''title,author,year\n",
    "The Weirdstone of Brisingamen,Alan Garner,1960\n",
    "Perdido Street Station,China Miéville,2000\n",
    "Thud!,Terry Pratchett,2005\n",
    "The Spellman Files,Lisa Lutz,2007\n",
    "Small Gods,Terry Pratchett,1992'''\n",
    "#Answer:\n",
    "\n",
    "import csv\n",
    "\n",
    "lines = [\n",
    "    ['title', 'author', 'year'],\n",
    "    ['The Weirdstone of Brisingamen', 'Alan Garner', '1960'],\n",
    "    ['Perdido Street Station', 'China Miéville', '2000'],\n",
    "    ['Thud!', 'Terry Pratchett', '2005'],\n",
    "    ['The Spellman Files', 'Lisa Lutz', '2007'],\n",
    "    ['Small Gods', 'Terry Pratchett', '1992']\n",
    "]\n",
    "\n",
    "with open('books.csv', 'w', newline='') as file:\n",
    "    writer = csv.writer(file)\n",
    "    writer.writerows(lines)\n",
    "\n",
    "print(\"books.csv has been created.\")"
   ]
  },
  {
   "cell_type": "code",
   "execution_count": 8,
   "metadata": {},
   "outputs": [
    {
     "name": "stdout",
     "output_type": "stream",
     "text": [
      "books.db database and books table have been created.\n"
     ]
    }
   ],
   "source": [
    "#Q - 4. Use the sqlite3 module to create a SQLite database called books.db, and a table called books with these fields: title (text), author (text), and year (integer).\n",
    "#Answer:\n",
    "import sqlite3\n",
    "\n",
    "#Connect to the database SQLite or Create the database if it doesn't exist\n",
    "conn = sqlite3.connect('books.db')\n",
    "\n",
    "#Create a cursor object to execute SQL statements\n",
    "cursor = conn.cursor()\n",
    "\n",
    "#Create the books table\n",
    "cursor.execute('''CREATE TABLE IF NOT EXISTS books(\n",
    "    title TEXT,\n",
    "    author TEXT,\n",
    "    year INTEGER\n",
    ")''')\n",
    "\n",
    "#Commit the changes and close the connection\n",
    "conn.commit()\n",
    "conn.close()\n",
    "\n",
    "print(\"books.db database and books table have been created.\")"
   ]
  },
  {
   "cell_type": "code",
   "execution_count": 9,
   "metadata": {},
   "outputs": [
    {
     "name": "stdout",
     "output_type": "stream",
     "text": [
      "Data from books.csv has been inserted into the 'books' table.\n"
     ]
    }
   ],
   "source": [
    "#Q - 5. Read books.csv and insert its data into the book table.\n",
    "#Answer:\n",
    "import csv\n",
    "import sqlite3\n",
    "\n",
    "# Connect to the SQLite database\n",
    "conn = sqlite3.connect('books.db')\n",
    "cursor = conn.cursor()\n",
    "\n",
    "# Read the data from the CSV file\n",
    "with open('books.csv', 'r') as file:\n",
    "    reader = csv.reader(file)\n",
    "    next(reader)  # Skip the header row\n",
    "    for row in reader:\n",
    "        title, author, year = row\n",
    "        cursor.execute(\"INSERT INTO books (title, author, year) VALUES (?, ?, ?)\", (title, author, year))\n",
    "\n",
    "# Commit the changes and close the connection\n",
    "conn.commit()\n",
    "conn.close()\n",
    "\n",
    "print(\"Data from books.csv has been inserted into the 'books' table.\")\n"
   ]
  },
  {
   "cell_type": "code",
   "execution_count": 11,
   "metadata": {},
   "outputs": [
    {
     "name": "stdout",
     "output_type": "stream",
     "text": [
      "Perdido Street Station\n",
      "Small Gods\n",
      "The Spellman Files\n",
      "The Weirdstone of Brisingamen\n",
      "Thud!\n"
     ]
    }
   ],
   "source": [
    "#Q - 6. Select and print the title column from the book table in alphabetical order.\n",
    "#Answer:\n",
    "import sqlite3\n",
    "\n",
    "conn = sqlite3.connect(\"books.db\")\n",
    "cursor = conn.cursor()\n",
    "\n",
    "#selecting title column from book table in alphabetical order\n",
    "cursor.execute(\"SELECT title FROM books ORDER BY title ASC \")\n",
    "rows = cursor.fetchall()\n",
    "\n",
    "#print the titles\n",
    "for row in rows:\n",
    "    print(row[0])\n",
    "\n",
    "#close the connection\n",
    "conn.close()"
   ]
  },
  {
   "cell_type": "code",
   "execution_count": 12,
   "metadata": {},
   "outputs": [
    {
     "name": "stdout",
     "output_type": "stream",
     "text": [
      "('The Weirdstone of Brisingamen', 'Alan Garner', 1960)\n",
      "('Small Gods', 'Terry Pratchett', 1992)\n",
      "('Perdido Street Station', 'China Miéville', 2000)\n",
      "('Thud!', 'Terry Pratchett', 2005)\n",
      "('The Spellman Files', 'Lisa Lutz', 2007)\n"
     ]
    }
   ],
   "source": [
    "#Q - 7. From the book table, select and print all columns in the order of publication.\n",
    "#Answer:\n",
    "import sqlite3\n",
    "\n",
    "#make database connection\n",
    "conn = sqlite3.connect('books.db')\n",
    "cursor = conn.cursor()\n",
    "\n",
    "#sql query to select all columns\n",
    "cursor.execute(\"SELECT * FROM books ORDER BY year ASC\")\n",
    "rows = cursor.fetchall()\n",
    "\n",
    "#print rows\n",
    "for row in rows:\n",
    "    print(row)\n",
    "\n",
    "#close the connection\n",
    "conn.close()\n"
   ]
  },
  {
   "cell_type": "code",
   "execution_count": 20,
   "metadata": {},
   "outputs": [
    {
     "name": "stdout",
     "output_type": "stream",
     "text": [
      "Defaulting to user installation because normal site-packages is not writeable\n",
      "Collecting sqlalchemy\n",
      "  Downloading SQLAlchemy-2.0.17-cp39-cp39-macosx_10_9_x86_64.whl (2.0 MB)\n",
      "\u001b[K     |████████████████████████████████| 2.0 MB 1.6 MB/s eta 0:00:01\n",
      "\u001b[?25hRequirement already satisfied: typing-extensions>=4.2.0 in /Users/Moti/Library/Python/3.9/lib/python/site-packages (from sqlalchemy) (4.6.3)\n",
      "Collecting greenlet!=0.4.17\n",
      "  Downloading greenlet-2.0.2-cp39-cp39-macosx_11_0_x86_64.whl (241 kB)\n",
      "\u001b[K     |████████████████████████████████| 241 kB 5.4 MB/s eta 0:00:01\n",
      "\u001b[?25hInstalling collected packages: greenlet, sqlalchemy\n",
      "Successfully installed greenlet-2.0.2 sqlalchemy-2.0.17\n",
      "\u001b[33mWARNING: You are using pip version 21.2.4; however, version 23.1.2 is available.\n",
      "You should consider upgrading via the '/Library/Developer/CommandLineTools/usr/bin/python3 -m pip install --upgrade pip' command.\u001b[0m\n",
      "Note: you may need to restart the kernel to use updated packages.\n"
     ]
    }
   ],
   "source": [
    "pip install sqlalchemy"
   ]
  },
  {
   "cell_type": "code",
   "execution_count": 21,
   "metadata": {},
   "outputs": [],
   "source": [
    "#Q - 8. Use the sqlalchemy module to connect to the sqlite3 database books.db that you just made in exercise 6.\n",
    "#Answer:\n",
    "from sqlalchemy import create_engine\n",
    "\n",
    "engine = create_engine('sqlite:///books.db')\n",
    "\n",
    "engine.dispose()"
   ]
  },
  {
   "cell_type": "code",
   "execution_count": 22,
   "metadata": {},
   "outputs": [
    {
     "name": "stdout",
     "output_type": "stream",
     "text": [
      "Defaulting to user installation because normal site-packages is not writeable\n",
      "Requirement already satisfied: redis in /Users/Moti/Library/Python/3.9/lib/python/site-packages (4.6.0)\n",
      "Requirement already satisfied: async-timeout>=4.0.2 in /Users/Moti/Library/Python/3.9/lib/python/site-packages (from redis) (4.0.2)\n",
      "\u001b[33mWARNING: You are using pip version 21.2.4; however, version 23.1.2 is available.\n",
      "You should consider upgrading via the '/Library/Developer/CommandLineTools/usr/bin/python3 -m pip install --upgrade pip' command.\u001b[0m\n",
      "Note: you may need to restart the kernel to use updated packages.\n"
     ]
    }
   ],
   "source": [
    "pip install redis"
   ]
  },
  {
   "cell_type": "code",
   "execution_count": 19,
   "metadata": {},
   "outputs": [
    {
     "ename": "ConnectionError",
     "evalue": "Error 61 connecting to localhost:6379. Connection refused.",
     "output_type": "error",
     "traceback": [
      "\u001b[0;31m---------------------------------------------------------------------------\u001b[0m",
      "\u001b[0;31mConnectionRefusedError\u001b[0m                    Traceback (most recent call last)",
      "File \u001b[0;32m~/Library/Python/3.9/lib/python/site-packages/redis/connection.py:707\u001b[0m, in \u001b[0;36mAbstractConnection.connect\u001b[0;34m(self)\u001b[0m\n\u001b[1;32m    706\u001b[0m \u001b[39mtry\u001b[39;00m:\n\u001b[0;32m--> 707\u001b[0m     sock \u001b[39m=\u001b[39m \u001b[39mself\u001b[39;49m\u001b[39m.\u001b[39;49mretry\u001b[39m.\u001b[39;49mcall_with_retry(\n\u001b[1;32m    708\u001b[0m         \u001b[39mlambda\u001b[39;49;00m: \u001b[39mself\u001b[39;49m\u001b[39m.\u001b[39;49m_connect(), \u001b[39mlambda\u001b[39;49;00m error: \u001b[39mself\u001b[39;49m\u001b[39m.\u001b[39;49mdisconnect(error)\n\u001b[1;32m    709\u001b[0m     )\n\u001b[1;32m    710\u001b[0m \u001b[39mexcept\u001b[39;00m socket\u001b[39m.\u001b[39mtimeout:\n",
      "File \u001b[0;32m~/Library/Python/3.9/lib/python/site-packages/redis/retry.py:46\u001b[0m, in \u001b[0;36mRetry.call_with_retry\u001b[0;34m(self, do, fail)\u001b[0m\n\u001b[1;32m     45\u001b[0m \u001b[39mtry\u001b[39;00m:\n\u001b[0;32m---> 46\u001b[0m     \u001b[39mreturn\u001b[39;00m do()\n\u001b[1;32m     47\u001b[0m \u001b[39mexcept\u001b[39;00m \u001b[39mself\u001b[39m\u001b[39m.\u001b[39m_supported_errors \u001b[39mas\u001b[39;00m error:\n",
      "File \u001b[0;32m~/Library/Python/3.9/lib/python/site-packages/redis/connection.py:708\u001b[0m, in \u001b[0;36mAbstractConnection.connect.<locals>.<lambda>\u001b[0;34m()\u001b[0m\n\u001b[1;32m    706\u001b[0m \u001b[39mtry\u001b[39;00m:\n\u001b[1;32m    707\u001b[0m     sock \u001b[39m=\u001b[39m \u001b[39mself\u001b[39m\u001b[39m.\u001b[39mretry\u001b[39m.\u001b[39mcall_with_retry(\n\u001b[0;32m--> 708\u001b[0m         \u001b[39mlambda\u001b[39;00m: \u001b[39mself\u001b[39;49m\u001b[39m.\u001b[39;49m_connect(), \u001b[39mlambda\u001b[39;00m error: \u001b[39mself\u001b[39m\u001b[39m.\u001b[39mdisconnect(error)\n\u001b[1;32m    709\u001b[0m     )\n\u001b[1;32m    710\u001b[0m \u001b[39mexcept\u001b[39;00m socket\u001b[39m.\u001b[39mtimeout:\n",
      "File \u001b[0;32m~/Library/Python/3.9/lib/python/site-packages/redis/connection.py:1006\u001b[0m, in \u001b[0;36mConnection._connect\u001b[0;34m(self)\u001b[0m\n\u001b[1;32m   1005\u001b[0m \u001b[39mif\u001b[39;00m err \u001b[39mis\u001b[39;00m \u001b[39mnot\u001b[39;00m \u001b[39mNone\u001b[39;00m:\n\u001b[0;32m-> 1006\u001b[0m     \u001b[39mraise\u001b[39;00m err\n\u001b[1;32m   1007\u001b[0m \u001b[39mraise\u001b[39;00m \u001b[39mOSError\u001b[39;00m(\u001b[39m\"\u001b[39m\u001b[39msocket.getaddrinfo returned an empty list\u001b[39m\u001b[39m\"\u001b[39m)\n",
      "File \u001b[0;32m~/Library/Python/3.9/lib/python/site-packages/redis/connection.py:994\u001b[0m, in \u001b[0;36mConnection._connect\u001b[0;34m(self)\u001b[0m\n\u001b[1;32m    993\u001b[0m \u001b[39m# connect\u001b[39;00m\n\u001b[0;32m--> 994\u001b[0m sock\u001b[39m.\u001b[39;49mconnect(socket_address)\n\u001b[1;32m    996\u001b[0m \u001b[39m# set the socket_timeout now that we're connected\u001b[39;00m\n",
      "\u001b[0;31mConnectionRefusedError\u001b[0m: [Errno 61] Connection refused",
      "\nDuring handling of the above exception, another exception occurred:\n",
      "\u001b[0;31mConnectionError\u001b[0m                           Traceback (most recent call last)",
      "Cell \u001b[0;32mIn[19], line 10\u001b[0m\n\u001b[1;32m      7\u001b[0m r \u001b[38;5;241m=\u001b[39m redis\u001b[38;5;241m.\u001b[39mRedis(host\u001b[38;5;241m=\u001b[39m\u001b[38;5;124m'\u001b[39m\u001b[38;5;124mlocalhost\u001b[39m\u001b[38;5;124m'\u001b[39m, port\u001b[38;5;241m=\u001b[39m\u001b[38;5;241m6379\u001b[39m, db\u001b[38;5;241m=\u001b[39m\u001b[38;5;241m0\u001b[39m)\n\u001b[1;32m      9\u001b[0m \u001b[38;5;66;03m# Create the hash\u001b[39;00m\n\u001b[0;32m---> 10\u001b[0m \u001b[43mr\u001b[49m\u001b[38;5;241;43m.\u001b[39;49m\u001b[43mhset\u001b[49m\u001b[43m(\u001b[49m\u001b[38;5;124;43m'\u001b[39;49m\u001b[38;5;124;43mtest\u001b[39;49m\u001b[38;5;124;43m'\u001b[39;49m\u001b[43m,\u001b[49m\u001b[43m \u001b[49m\u001b[38;5;124;43m'\u001b[39;49m\u001b[38;5;124;43mcount\u001b[39;49m\u001b[38;5;124;43m'\u001b[39;49m\u001b[43m,\u001b[49m\u001b[43m \u001b[49m\u001b[38;5;241;43m1\u001b[39;49m\u001b[43m)\u001b[49m\n\u001b[1;32m     11\u001b[0m r\u001b[38;5;241m.\u001b[39mhset(\u001b[38;5;124m'\u001b[39m\u001b[38;5;124mtest\u001b[39m\u001b[38;5;124m'\u001b[39m, \u001b[38;5;124m'\u001b[39m\u001b[38;5;124mname\u001b[39m\u001b[38;5;124m'\u001b[39m, \u001b[38;5;124m'\u001b[39m\u001b[38;5;124mFester Bestertester\u001b[39m\u001b[38;5;124m'\u001b[39m)\n\u001b[1;32m     13\u001b[0m \u001b[38;5;66;03m# Get all fields from the hash\u001b[39;00m\n",
      "File \u001b[0;32m~/Library/Python/3.9/lib/python/site-packages/redis/commands/core.py:4976\u001b[0m, in \u001b[0;36mHashCommands.hset\u001b[0;34m(self, name, key, value, mapping, items)\u001b[0m\n\u001b[1;32m   4973\u001b[0m     \u001b[39mfor\u001b[39;00m pair \u001b[39min\u001b[39;00m mapping\u001b[39m.\u001b[39mitems():\n\u001b[1;32m   4974\u001b[0m         items\u001b[39m.\u001b[39mextend(pair)\n\u001b[0;32m-> 4976\u001b[0m \u001b[39mreturn\u001b[39;00m \u001b[39mself\u001b[39;49m\u001b[39m.\u001b[39;49mexecute_command(\u001b[39m\"\u001b[39;49m\u001b[39mHSET\u001b[39;49m\u001b[39m\"\u001b[39;49m, name, \u001b[39m*\u001b[39;49mitems)\n",
      "File \u001b[0;32m~/Library/Python/3.9/lib/python/site-packages/redis/client.py:1266\u001b[0m, in \u001b[0;36mRedis.execute_command\u001b[0;34m(self, *args, **options)\u001b[0m\n\u001b[1;32m   1264\u001b[0m pool \u001b[39m=\u001b[39m \u001b[39mself\u001b[39m\u001b[39m.\u001b[39mconnection_pool\n\u001b[1;32m   1265\u001b[0m command_name \u001b[39m=\u001b[39m args[\u001b[39m0\u001b[39m]\n\u001b[0;32m-> 1266\u001b[0m conn \u001b[39m=\u001b[39m \u001b[39mself\u001b[39m\u001b[39m.\u001b[39mconnection \u001b[39mor\u001b[39;00m pool\u001b[39m.\u001b[39;49mget_connection(command_name, \u001b[39m*\u001b[39;49m\u001b[39m*\u001b[39;49moptions)\n\u001b[1;32m   1268\u001b[0m \u001b[39mtry\u001b[39;00m:\n\u001b[1;32m   1269\u001b[0m     \u001b[39mreturn\u001b[39;00m conn\u001b[39m.\u001b[39mretry\u001b[39m.\u001b[39mcall_with_retry(\n\u001b[1;32m   1270\u001b[0m         \u001b[39mlambda\u001b[39;00m: \u001b[39mself\u001b[39m\u001b[39m.\u001b[39m_send_command_parse_response(\n\u001b[1;32m   1271\u001b[0m             conn, command_name, \u001b[39m*\u001b[39margs, \u001b[39m*\u001b[39m\u001b[39m*\u001b[39moptions\n\u001b[1;32m   1272\u001b[0m         ),\n\u001b[1;32m   1273\u001b[0m         \u001b[39mlambda\u001b[39;00m error: \u001b[39mself\u001b[39m\u001b[39m.\u001b[39m_disconnect_raise(conn, error),\n\u001b[1;32m   1274\u001b[0m     )\n",
      "File \u001b[0;32m~/Library/Python/3.9/lib/python/site-packages/redis/connection.py:1461\u001b[0m, in \u001b[0;36mConnectionPool.get_connection\u001b[0;34m(self, command_name, *keys, **options)\u001b[0m\n\u001b[1;32m   1457\u001b[0m     \u001b[39mself\u001b[39m\u001b[39m.\u001b[39m_in_use_connections\u001b[39m.\u001b[39madd(connection)\n\u001b[1;32m   1459\u001b[0m \u001b[39mtry\u001b[39;00m:\n\u001b[1;32m   1460\u001b[0m     \u001b[39m# ensure this connection is connected to Redis\u001b[39;00m\n\u001b[0;32m-> 1461\u001b[0m     connection\u001b[39m.\u001b[39;49mconnect()\n\u001b[1;32m   1462\u001b[0m     \u001b[39m# connections that the pool provides should be ready to send\u001b[39;00m\n\u001b[1;32m   1463\u001b[0m     \u001b[39m# a command. if not, the connection was either returned to the\u001b[39;00m\n\u001b[1;32m   1464\u001b[0m     \u001b[39m# pool before all data has been read or the socket has been\u001b[39;00m\n\u001b[1;32m   1465\u001b[0m     \u001b[39m# closed. either way, reconnect and verify everything is good.\u001b[39;00m\n\u001b[1;32m   1466\u001b[0m     \u001b[39mtry\u001b[39;00m:\n",
      "File \u001b[0;32m~/Library/Python/3.9/lib/python/site-packages/redis/connection.py:713\u001b[0m, in \u001b[0;36mAbstractConnection.connect\u001b[0;34m(self)\u001b[0m\n\u001b[1;32m    711\u001b[0m     \u001b[39mraise\u001b[39;00m \u001b[39mTimeoutError\u001b[39;00m(\u001b[39m\"\u001b[39m\u001b[39mTimeout connecting to server\u001b[39m\u001b[39m\"\u001b[39m)\n\u001b[1;32m    712\u001b[0m \u001b[39mexcept\u001b[39;00m \u001b[39mOSError\u001b[39;00m \u001b[39mas\u001b[39;00m e:\n\u001b[0;32m--> 713\u001b[0m     \u001b[39mraise\u001b[39;00m \u001b[39mConnectionError\u001b[39;00m(\u001b[39mself\u001b[39m\u001b[39m.\u001b[39m_error_message(e))\n\u001b[1;32m    715\u001b[0m \u001b[39mself\u001b[39m\u001b[39m.\u001b[39m_sock \u001b[39m=\u001b[39m sock\n\u001b[1;32m    716\u001b[0m \u001b[39mtry\u001b[39;00m:\n",
      "\u001b[0;31mConnectionError\u001b[0m: Error 61 connecting to localhost:6379. Connection refused."
     ]
    }
   ],
   "source": [
    "#Q - 9. Install the Redis server and the Python redis library (pip install redis) on your computer. Create a Redis hash called test with the fields count (1) and name (&#39;Fester Bestertester&#39;). Print all the fields for test.\n",
    "\n",
    "#Answer:\n",
    "import redis\n",
    "\n",
    "# Connect to Redis\n",
    "r = redis.Redis(host='localhost', port=6379, db=0)\n",
    "\n",
    "# Create the hash\n",
    "r.hset('test', 'count', 1)\n",
    "r.hset('test', 'name', 'Fester Bestertester')\n",
    "\n",
    "# Get all fields from the hash\n",
    "fields = r.hgetall('test')\n",
    "\n",
    "# Print all fields\n",
    "for field, value in fields.items():\n",
    "    print(f\"{field.decode()}: {value.decode()}\")"
   ]
  },
  {
   "cell_type": "code",
   "execution_count": 24,
   "metadata": {},
   "outputs": [
    {
     "ename": "ConnectionError",
     "evalue": "Error 61 connecting to localhost:6379. Connection refused.",
     "output_type": "error",
     "traceback": [
      "\u001b[0;31m---------------------------------------------------------------------------\u001b[0m",
      "\u001b[0;31mConnectionRefusedError\u001b[0m                    Traceback (most recent call last)",
      "File \u001b[0;32m~/Library/Python/3.9/lib/python/site-packages/redis/connection.py:707\u001b[0m, in \u001b[0;36mAbstractConnection.connect\u001b[0;34m(self)\u001b[0m\n\u001b[1;32m    706\u001b[0m \u001b[39mtry\u001b[39;00m:\n\u001b[0;32m--> 707\u001b[0m     sock \u001b[39m=\u001b[39m \u001b[39mself\u001b[39;49m\u001b[39m.\u001b[39;49mretry\u001b[39m.\u001b[39;49mcall_with_retry(\n\u001b[1;32m    708\u001b[0m         \u001b[39mlambda\u001b[39;49;00m: \u001b[39mself\u001b[39;49m\u001b[39m.\u001b[39;49m_connect(), \u001b[39mlambda\u001b[39;49;00m error: \u001b[39mself\u001b[39;49m\u001b[39m.\u001b[39;49mdisconnect(error)\n\u001b[1;32m    709\u001b[0m     )\n\u001b[1;32m    710\u001b[0m \u001b[39mexcept\u001b[39;00m socket\u001b[39m.\u001b[39mtimeout:\n",
      "File \u001b[0;32m~/Library/Python/3.9/lib/python/site-packages/redis/retry.py:46\u001b[0m, in \u001b[0;36mRetry.call_with_retry\u001b[0;34m(self, do, fail)\u001b[0m\n\u001b[1;32m     45\u001b[0m \u001b[39mtry\u001b[39;00m:\n\u001b[0;32m---> 46\u001b[0m     \u001b[39mreturn\u001b[39;00m do()\n\u001b[1;32m     47\u001b[0m \u001b[39mexcept\u001b[39;00m \u001b[39mself\u001b[39m\u001b[39m.\u001b[39m_supported_errors \u001b[39mas\u001b[39;00m error:\n",
      "File \u001b[0;32m~/Library/Python/3.9/lib/python/site-packages/redis/connection.py:708\u001b[0m, in \u001b[0;36mAbstractConnection.connect.<locals>.<lambda>\u001b[0;34m()\u001b[0m\n\u001b[1;32m    706\u001b[0m \u001b[39mtry\u001b[39;00m:\n\u001b[1;32m    707\u001b[0m     sock \u001b[39m=\u001b[39m \u001b[39mself\u001b[39m\u001b[39m.\u001b[39mretry\u001b[39m.\u001b[39mcall_with_retry(\n\u001b[0;32m--> 708\u001b[0m         \u001b[39mlambda\u001b[39;00m: \u001b[39mself\u001b[39;49m\u001b[39m.\u001b[39;49m_connect(), \u001b[39mlambda\u001b[39;00m error: \u001b[39mself\u001b[39m\u001b[39m.\u001b[39mdisconnect(error)\n\u001b[1;32m    709\u001b[0m     )\n\u001b[1;32m    710\u001b[0m \u001b[39mexcept\u001b[39;00m socket\u001b[39m.\u001b[39mtimeout:\n",
      "File \u001b[0;32m~/Library/Python/3.9/lib/python/site-packages/redis/connection.py:1006\u001b[0m, in \u001b[0;36mConnection._connect\u001b[0;34m(self)\u001b[0m\n\u001b[1;32m   1005\u001b[0m \u001b[39mif\u001b[39;00m err \u001b[39mis\u001b[39;00m \u001b[39mnot\u001b[39;00m \u001b[39mNone\u001b[39;00m:\n\u001b[0;32m-> 1006\u001b[0m     \u001b[39mraise\u001b[39;00m err\n\u001b[1;32m   1007\u001b[0m \u001b[39mraise\u001b[39;00m \u001b[39mOSError\u001b[39;00m(\u001b[39m\"\u001b[39m\u001b[39msocket.getaddrinfo returned an empty list\u001b[39m\u001b[39m\"\u001b[39m)\n",
      "File \u001b[0;32m~/Library/Python/3.9/lib/python/site-packages/redis/connection.py:994\u001b[0m, in \u001b[0;36mConnection._connect\u001b[0;34m(self)\u001b[0m\n\u001b[1;32m    993\u001b[0m \u001b[39m# connect\u001b[39;00m\n\u001b[0;32m--> 994\u001b[0m sock\u001b[39m.\u001b[39;49mconnect(socket_address)\n\u001b[1;32m    996\u001b[0m \u001b[39m# set the socket_timeout now that we're connected\u001b[39;00m\n",
      "\u001b[0;31mConnectionRefusedError\u001b[0m: [Errno 61] Connection refused",
      "\nDuring handling of the above exception, another exception occurred:\n",
      "\u001b[0;31mConnectionError\u001b[0m                           Traceback (most recent call last)",
      "Cell \u001b[0;32mIn[24], line 9\u001b[0m\n\u001b[1;32m      6\u001b[0m r \u001b[38;5;241m=\u001b[39m redis\u001b[38;5;241m.\u001b[39mRedis(host\u001b[38;5;241m=\u001b[39m\u001b[38;5;124m'\u001b[39m\u001b[38;5;124mlocalhost\u001b[39m\u001b[38;5;124m'\u001b[39m, port\u001b[38;5;241m=\u001b[39m\u001b[38;5;241m6379\u001b[39m, db\u001b[38;5;241m=\u001b[39m\u001b[38;5;241m0\u001b[39m)\n\u001b[1;32m      8\u001b[0m \u001b[38;5;66;03m# Increment the count field by 1\u001b[39;00m\n\u001b[0;32m----> 9\u001b[0m \u001b[43mr\u001b[49m\u001b[38;5;241;43m.\u001b[39;49m\u001b[43mhincrby\u001b[49m\u001b[43m(\u001b[49m\u001b[38;5;124;43m'\u001b[39;49m\u001b[38;5;124;43mtest\u001b[39;49m\u001b[38;5;124;43m'\u001b[39;49m\u001b[43m,\u001b[49m\u001b[43m \u001b[49m\u001b[38;5;124;43m'\u001b[39;49m\u001b[38;5;124;43mcount\u001b[39;49m\u001b[38;5;124;43m'\u001b[39;49m\u001b[43m,\u001b[49m\u001b[43m \u001b[49m\u001b[38;5;241;43m1\u001b[39;49m\u001b[43m)\u001b[49m\n\u001b[1;32m     11\u001b[0m \u001b[38;5;66;03m# Get the updated count field value\u001b[39;00m\n\u001b[1;32m     12\u001b[0m count \u001b[38;5;241m=\u001b[39m r\u001b[38;5;241m.\u001b[39mhget(\u001b[38;5;124m'\u001b[39m\u001b[38;5;124mtest\u001b[39m\u001b[38;5;124m'\u001b[39m, \u001b[38;5;124m'\u001b[39m\u001b[38;5;124mcount\u001b[39m\u001b[38;5;124m'\u001b[39m)\n",
      "File \u001b[0;32m~/Library/Python/3.9/lib/python/site-packages/redis/commands/core.py:4921\u001b[0m, in \u001b[0;36mHashCommands.hincrby\u001b[0;34m(self, name, key, amount)\u001b[0m\n\u001b[1;32m   4913\u001b[0m \u001b[39mdef\u001b[39;00m \u001b[39mhincrby\u001b[39m(\n\u001b[1;32m   4914\u001b[0m     \u001b[39mself\u001b[39m, name: \u001b[39mstr\u001b[39m, key: \u001b[39mstr\u001b[39m, amount: \u001b[39mint\u001b[39m \u001b[39m=\u001b[39m \u001b[39m1\u001b[39m\n\u001b[1;32m   4915\u001b[0m ) \u001b[39m-\u001b[39m\u001b[39m>\u001b[39m Union[Awaitable[\u001b[39mint\u001b[39m], \u001b[39mint\u001b[39m]:\n\u001b[1;32m   4916\u001b[0m \u001b[39m    \u001b[39m\u001b[39m\"\"\"\u001b[39;00m\n\u001b[1;32m   4917\u001b[0m \u001b[39m    Increment the value of ``key`` in hash ``name`` by ``amount``\u001b[39;00m\n\u001b[1;32m   4918\u001b[0m \n\u001b[1;32m   4919\u001b[0m \u001b[39m    For more information see https://redis.io/commands/hincrby\u001b[39;00m\n\u001b[1;32m   4920\u001b[0m \u001b[39m    \"\"\"\u001b[39;00m\n\u001b[0;32m-> 4921\u001b[0m     \u001b[39mreturn\u001b[39;00m \u001b[39mself\u001b[39;49m\u001b[39m.\u001b[39;49mexecute_command(\u001b[39m\"\u001b[39;49m\u001b[39mHINCRBY\u001b[39;49m\u001b[39m\"\u001b[39;49m, name, key, amount)\n",
      "File \u001b[0;32m~/Library/Python/3.9/lib/python/site-packages/redis/client.py:1266\u001b[0m, in \u001b[0;36mRedis.execute_command\u001b[0;34m(self, *args, **options)\u001b[0m\n\u001b[1;32m   1264\u001b[0m pool \u001b[39m=\u001b[39m \u001b[39mself\u001b[39m\u001b[39m.\u001b[39mconnection_pool\n\u001b[1;32m   1265\u001b[0m command_name \u001b[39m=\u001b[39m args[\u001b[39m0\u001b[39m]\n\u001b[0;32m-> 1266\u001b[0m conn \u001b[39m=\u001b[39m \u001b[39mself\u001b[39m\u001b[39m.\u001b[39mconnection \u001b[39mor\u001b[39;00m pool\u001b[39m.\u001b[39;49mget_connection(command_name, \u001b[39m*\u001b[39;49m\u001b[39m*\u001b[39;49moptions)\n\u001b[1;32m   1268\u001b[0m \u001b[39mtry\u001b[39;00m:\n\u001b[1;32m   1269\u001b[0m     \u001b[39mreturn\u001b[39;00m conn\u001b[39m.\u001b[39mretry\u001b[39m.\u001b[39mcall_with_retry(\n\u001b[1;32m   1270\u001b[0m         \u001b[39mlambda\u001b[39;00m: \u001b[39mself\u001b[39m\u001b[39m.\u001b[39m_send_command_parse_response(\n\u001b[1;32m   1271\u001b[0m             conn, command_name, \u001b[39m*\u001b[39margs, \u001b[39m*\u001b[39m\u001b[39m*\u001b[39moptions\n\u001b[1;32m   1272\u001b[0m         ),\n\u001b[1;32m   1273\u001b[0m         \u001b[39mlambda\u001b[39;00m error: \u001b[39mself\u001b[39m\u001b[39m.\u001b[39m_disconnect_raise(conn, error),\n\u001b[1;32m   1274\u001b[0m     )\n",
      "File \u001b[0;32m~/Library/Python/3.9/lib/python/site-packages/redis/connection.py:1461\u001b[0m, in \u001b[0;36mConnectionPool.get_connection\u001b[0;34m(self, command_name, *keys, **options)\u001b[0m\n\u001b[1;32m   1457\u001b[0m     \u001b[39mself\u001b[39m\u001b[39m.\u001b[39m_in_use_connections\u001b[39m.\u001b[39madd(connection)\n\u001b[1;32m   1459\u001b[0m \u001b[39mtry\u001b[39;00m:\n\u001b[1;32m   1460\u001b[0m     \u001b[39m# ensure this connection is connected to Redis\u001b[39;00m\n\u001b[0;32m-> 1461\u001b[0m     connection\u001b[39m.\u001b[39;49mconnect()\n\u001b[1;32m   1462\u001b[0m     \u001b[39m# connections that the pool provides should be ready to send\u001b[39;00m\n\u001b[1;32m   1463\u001b[0m     \u001b[39m# a command. if not, the connection was either returned to the\u001b[39;00m\n\u001b[1;32m   1464\u001b[0m     \u001b[39m# pool before all data has been read or the socket has been\u001b[39;00m\n\u001b[1;32m   1465\u001b[0m     \u001b[39m# closed. either way, reconnect and verify everything is good.\u001b[39;00m\n\u001b[1;32m   1466\u001b[0m     \u001b[39mtry\u001b[39;00m:\n",
      "File \u001b[0;32m~/Library/Python/3.9/lib/python/site-packages/redis/connection.py:713\u001b[0m, in \u001b[0;36mAbstractConnection.connect\u001b[0;34m(self)\u001b[0m\n\u001b[1;32m    711\u001b[0m     \u001b[39mraise\u001b[39;00m \u001b[39mTimeoutError\u001b[39;00m(\u001b[39m\"\u001b[39m\u001b[39mTimeout connecting to server\u001b[39m\u001b[39m\"\u001b[39m)\n\u001b[1;32m    712\u001b[0m \u001b[39mexcept\u001b[39;00m \u001b[39mOSError\u001b[39;00m \u001b[39mas\u001b[39;00m e:\n\u001b[0;32m--> 713\u001b[0m     \u001b[39mraise\u001b[39;00m \u001b[39mConnectionError\u001b[39;00m(\u001b[39mself\u001b[39m\u001b[39m.\u001b[39m_error_message(e))\n\u001b[1;32m    715\u001b[0m \u001b[39mself\u001b[39m\u001b[39m.\u001b[39m_sock \u001b[39m=\u001b[39m sock\n\u001b[1;32m    716\u001b[0m \u001b[39mtry\u001b[39;00m:\n",
      "\u001b[0;31mConnectionError\u001b[0m: Error 61 connecting to localhost:6379. Connection refused."
     ]
    }
   ],
   "source": [
    "#Q - 10. Increment the count field of test and print it.\n",
    "#Answer:\n",
    "import redis\n",
    "\n",
    "# Connect to Redis\n",
    "r = redis.Redis(host='localhost', port=6379, db=0)\n",
    "\n",
    "# Increment the count field by 1\n",
    "r.hincrby('test', 'count', 1)\n",
    "\n",
    "# Get the updated count field value\n",
    "count = r.hget('test', 'count')\n",
    "\n",
    "# Print the updated count\n",
    "print(f\"Updated count: {count.decode()}\")"
   ]
  },
  {
   "cell_type": "code",
   "execution_count": null,
   "metadata": {},
   "outputs": [],
   "source": []
  }
 ],
 "metadata": {
  "kernelspec": {
   "display_name": "Python 3.9.6 64-bit",
   "language": "python",
   "name": "python3"
  },
  "language_info": {
   "codemirror_mode": {
    "name": "ipython",
    "version": 3
   },
   "file_extension": ".py",
   "mimetype": "text/x-python",
   "name": "python",
   "nbconvert_exporter": "python",
   "pygments_lexer": "ipython3",
   "version": "3.9.6"
  },
  "orig_nbformat": 4,
  "vscode": {
   "interpreter": {
    "hash": "31f2aee4e71d21fbe5cf8b01ff0e069b9275f58929596ceb00d14d90e3e16cd6"
   }
  }
 },
 "nbformat": 4,
 "nbformat_minor": 2
}
